{
 "cells": [
  {
   "cell_type": "code",
   "execution_count": 32,
   "metadata": {
    "collapsed": true
   },
   "outputs": [],
   "source": [
    "import pickle\n",
    "trafficRecordsByIdLoaded = pickle.load(open(\"trafficRecordsById.p\", \"rb\"))"
   ]
  },
  {
   "cell_type": "code",
   "execution_count": 33,
   "metadata": {
    "collapsed": true
   },
   "outputs": [],
   "source": [
    "def intervalToRecords(trafficRecordsForId):\n",
    "    intervalToRecordsMap = {}\n",
    "    if trafficRecordsForId is None:\n",
    "        return intervalToRecordsMap\n",
    "    for trafficRecord in trafficRecordsForId:\n",
    "        if sum(trafficRecord[1]) < 400:\n",
    "            intervalToRecordsMap[int(trafficRecord[0])] = sum(trafficRecord[1])\n",
    "    return intervalToRecordsMap"
   ]
  },
  {
   "cell_type": "code",
   "execution_count": 34,
   "metadata": {
    "collapsed": true
   },
   "outputs": [],
   "source": [
    "def trafficRecordsMap():\n",
    "    toReturn = {}\n",
    "    for sensorId, records in trafficRecordsByIdLoaded.items():\n",
    "        toReturn[sensorId] = intervalToRecords(records)\n",
    "    return toReturn"
   ]
  },
  {
   "cell_type": "code",
   "execution_count": 42,
   "metadata": {
    "collapsed": false
   },
   "outputs": [],
   "source": [
    "import csv\n",
    "import numpy as np\n",
    "mapeAvg = {}\n",
    "mapeList = {}\n",
    "tMap = trafficRecordsMap()\n",
    "with open(\"singlePointTestUnder400.csv\") as f:\n",
    "    predicted = csv.reader(f, delimiter=',')\n",
    "    for p in predicted:\n",
    "        sensorId = p[0]\n",
    "        if sensorId not in mapeList:\n",
    "            mapeList[sensorId] = [[], [], [], [], [], []]\n",
    "        intervalId = int(p[1])\n",
    "        if not (intervalId % 288 > 91 and intervalId % 288 < 102 or intervalId % 288 > 205 and intervalId % 288 < 215):\n",
    "            continue\n",
    "        if not (tMap.get(sensorId)):\n",
    "            continue\n",
    "        for i in range(6):\n",
    "            trueValue = tMap.get(sensorId).get(intervalId + i)\n",
    "            predictedValue = float(p[len(p) - 1 - i])\n",
    "            if trueValue is None or predictedValue is None or trueValue == 0:\n",
    "                continue\n",
    "            mapeList[sensorId][i].append(np.abs((trueValue - predictedValue) / trueValue * 100))\n",
    "\n",
    "with open(\"mape6stepsPeakHourUnder400.csv\", \"w\") as f:\n",
    "    for sensorId, l in mapeList.items():\n",
    "        toWrite = [sensorId]\n",
    "        for i in range(6):\n",
    "            if not l[i]:\n",
    "                toWrite.append(\"None\")\n",
    "                continue\n",
    "            toWrite.append(str(sum(l[i])/len(l[i])))\n",
    "        f.write(\",\".join(toWrite) + \"\\n\")        "
   ]
  },
  {
   "cell_type": "code",
   "execution_count": 66,
   "metadata": {
    "collapsed": false
   },
   "outputs": [],
   "source": [
    "import csv\n",
    "import numpy as np\n",
    "tMap = trafficRecordsMap()\n",
    "resultMap = {}\n",
    "with open(\"surroundingTestWithBadValueExcludedUnder400.csv\") as f:\n",
    "    predicted = csv.reader(f, delimiter=',')\n",
    "    for p in predicted:\n",
    "        sensorId, intervalId, predictedValue = p\n",
    "        intervalId = int(intervalId)\n",
    "        if not (intervalId % 288 > 73 and intervalId % 288 < 276):\n",
    "            continue\n",
    "        predictedValue = float(predictedValue)\n",
    "        trueValue = tMap.get(sensorId).get(intervalId)\n",
    "\n",
    "        if not trueValue:\n",
    "            continue\n",
    "        if sensorId not in resultMap:\n",
    "            resultMap[sensorId] = []\n",
    "        resultMap[sensorId].append(np.abs((trueValue - predictedValue) / trueValue * 100))\n",
    "        \n",
    "with open(\"./mapeSurrounding/mapeSurroundingTestWithBadValueExcludedUnder400DayTime.csv\", \"w\") as f:\n",
    "    for sensorId, mape in resultMap.items():\n",
    "        toWrite = [sensorId]\n",
    "        toWrite.append(str(sum(mape)/len(mape)))\n",
    "        f.write(\",\".join(toWrite) + \"\\n\")\n",
    "        "
   ]
  },
  {
   "cell_type": "code",
   "execution_count": 75,
   "metadata": {
    "collapsed": false
   },
   "outputs": [],
   "source": [
    "sensorSelected = {\"101\",\n",
    "\"102\",\n",
    "\"104\",\n",
    "\"111\",\n",
    "\"203\",\n",
    "\"206\",\n",
    "\"307\",\n",
    "\"405\",\n",
    "\"406\",\n",
    "\"407\",\n",
    "\"408\",\n",
    "\"503\",\n",
    "\"504\",\n",
    "\"505\",\n",
    "\"513\",\n",
    "\"604\",\n",
    "\"704\",\n",
    "\"804\"}"
   ]
  },
  {
   "cell_type": "code",
   "execution_count": 82,
   "metadata": {
    "collapsed": false
   },
   "outputs": [
    {
     "name": "stdout",
     "output_type": "stream",
     "text": [
      "8.97969453149 12.6236611102 10.8562455107\n",
      "9.98100138445 13.9048648395 11.8693719848\n",
      "10.7469773712 14.2168675607 12.4068813545\n",
      "11.4107748228 14.7407016752 13.2690385428\n",
      "12.1252361288 16.0051756122 13.9813982402\n",
      "11.9827852547 16.7775714751 14.6380405632\n"
     ]
    }
   ],
   "source": [
    "result = {}\n",
    "with open(\"mape6stepsPeakHourUnder400.csv\") as f:\n",
    "    mape = csv.reader(f, delimiter=',')\n",
    "    for p in mape:\n",
    "        if p[0] not in sensorSelected:\n",
    "            continue\n",
    "        for i in range(6):\n",
    "            if i not in result:\n",
    "                result[i] = []\n",
    "#             print (p[i + 1])\n",
    "            result[i].append(float(p[i + 1]))\n",
    "for i in range(6):\n",
    "    result[i] = sorted(result[i])\n",
    "    print (np.percentile(result[i], 20), np.percentile(result[i], 80), np.mean(result[i]))"
   ]
  },
  {
   "cell_type": "code",
   "execution_count": 96,
   "metadata": {
    "collapsed": false
   },
   "outputs": [
    {
     "name": "stdout",
     "output_type": "stream",
     "text": [
      "8.15747363703 11.7172854991 10.0251419495\n"
     ]
    }
   ],
   "source": [
    "l = []\n",
    "with open(\"./mapeSurrounding/mapeSurroundingTestWithBadValuesUnder400PeakHour.csv\") as f:\n",
    "    mape = csv.reader(f, delimiter=',')\n",
    "    for p in mape:\n",
    "        if p[0] not in sensorSelected:\n",
    "            continue\n",
    "        l.append(float(p[1]))\n",
    "print (np.percentile(l, 20), np.percentile(l, 80), np.mean(l))"
   ]
  },
  {
   "cell_type": "code",
   "execution_count": null,
   "metadata": {
    "collapsed": true
   },
   "outputs": [],
   "source": []
  }
 ],
 "metadata": {
  "kernelspec": {
   "display_name": "Python 3",
   "language": "python",
   "name": "python3"
  },
  "language_info": {
   "codemirror_mode": {
    "name": "ipython",
    "version": 3
   },
   "file_extension": ".py",
   "mimetype": "text/x-python",
   "name": "python",
   "nbconvert_exporter": "python",
   "pygments_lexer": "ipython3",
   "version": "3.5.2"
  },
  "widgets": {
   "state": {},
   "version": "1.1.2"
  }
 },
 "nbformat": 4,
 "nbformat_minor": 2
}
